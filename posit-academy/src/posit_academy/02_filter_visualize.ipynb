{
 "cells": [
  {
   "cell_type": "markdown",
   "metadata": {},
   "source": [
    "## Visualize & Filter Data\n",
    "\n",
    "#### Plot the price history for the S&P 500 index and the 10-Year Treasury Yield index."
   ]
  },
  {
   "cell_type": "markdown",
   "metadata": {},
   "source": [
    "### SECTION 1: SETUP\n",
    "\n",
    "1. Import your packages.\n",
    "2. Use the pandas `set_option` to display all table columns and enable copy on write.\n",
    "3. Load the `indexes` data set to a variable named `indexes`."
   ]
  },
  {
   "cell_type": "code",
   "execution_count": 1,
   "metadata": {},
   "outputs": [],
   "source": [
    "# Import packages used\n",
    "import pandas as pd"
   ]
  },
  {
   "cell_type": "code",
   "execution_count": 2,
   "metadata": {},
   "outputs": [],
   "source": [
    "# Set pandas options to optimize analysis\n",
    "pd.set_option('display.max_columns', None)\n",
    "pd.set_option('mode.copy_on_write', True)\n",
    "\n",
    "# Save the data set to a variable for easy referencing\n",
    "indexes = pd.read_csv(\"/Users/kellsworth/Developer/GitHub/python-dabbling/posit-academy/src/files/indexes.csv\")"
   ]
  },
  {
   "cell_type": "markdown",
   "metadata": {},
   "source": [
    "### SECTION 2: VISUALIZE\n",
    "\n",
    "Recreate the plot below.\n",
    "\n",
    "*Note that Posit Academy teaches using `plotnine`, their own plotting package based on R's `ggplot2`. A different package is used here to become more familiar with popular Python packages.*\n",
    "\n",
    "![](/Users/kellsworth/Developer/GitHub/python-dabbling/posit-academy/src/files/milestone_02a_plot.png)"
   ]
  },
  {
   "cell_type": "code",
   "execution_count": null,
   "metadata": {},
   "outputs": [],
   "source": [
    "# CONTINUE HERE"
   ]
  }
 ],
 "metadata": {
  "kernelspec": {
   "display_name": "posit-academy-7Er59nBK-py3.12",
   "language": "python",
   "name": "python3"
  },
  "language_info": {
   "codemirror_mode": {
    "name": "ipython",
    "version": 3
   },
   "file_extension": ".py",
   "mimetype": "text/x-python",
   "name": "python",
   "nbconvert_exporter": "python",
   "pygments_lexer": "ipython3",
   "version": "3.12.2"
  }
 },
 "nbformat": 4,
 "nbformat_minor": 2
}
