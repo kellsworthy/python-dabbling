{
 "cells": [
  {
   "cell_type": "markdown",
   "metadata": {},
   "source": [
    "## Python Basics\n",
    "\n",
    "#### Become familiar with the `indexes` data set."
   ]
  },
  {
   "cell_type": "markdown",
   "metadata": {},
   "source": [
    "### SECTION 1: SETUP\n",
    "\n",
    "1. Import the `pandas` package with the common `pd` alias.\n",
    "2. Use `help()` to explore the pandas `read_csv()` function.\n",
    "3. Use the pandas `read_csv()` function to load the data set.\n",
    "4. Save the data set to a variable named `indexes`.\n",
    "5. Save the `symbol`, `date`, and `adjusted` columns to variables."
   ]
  },
  {
   "cell_type": "code",
   "execution_count": 1,
   "metadata": {},
   "outputs": [],
   "source": [
    "# Import packages used\n",
    "import pandas as pd"
   ]
  },
  {
   "cell_type": "code",
   "execution_count": 2,
   "metadata": {},
   "outputs": [],
   "source": [
    "# Understand how to use the read_csv() function\n",
    "# help(pd.read_csv)\n",
    "\n",
    "# Save the data set to a variable for easy referencing\n",
    "indexes = pd.read_csv(\"/Users/kellsworth/Developer/GitHub/python-dabbling/posit-academy/src/files/indexes.csv\")\n",
    "\n",
    "# Save symbol, date, and adjusted columns to variables\n",
    "symbol = indexes['symbol']\n",
    "date = indexes['date']\n",
    "adjusted = indexes['adjusted']"
   ]
  },
  {
   "cell_type": "markdown",
   "metadata": {},
   "source": [
    "###  SECTION 2: EXPLORE DATA\n",
    "\n",
    "1. Display the contents of `indexes`.\n",
    "2. Display the contents of the columns saved to variables.\n",
    "3. Use the built-in `min()` function to find the first date in date.\n",
    "4. Use the built-in `max()` function to find the last day in date.\n",
    "5. Use the pandas `value_counts()` function to count the number of records for each symbol."
   ]
  },
  {
   "cell_type": "code",
   "execution_count": 4,
   "metadata": {},
   "outputs": [
    {
     "name": "stdout",
     "output_type": "stream",
     "text": [
      "     symbol        date         open         high          low        close  \\\n",
      "0     ^GSPC  2021-01-04  3764.610107  3769.989990  3662.709961  3700.649902   \n",
      "1     ^GSPC  2021-01-05  3698.020020  3737.830078  3695.070068  3726.860107   \n",
      "2     ^GSPC  2021-01-06  3712.199951  3783.040039  3705.340088  3748.139893   \n",
      "3     ^GSPC  2021-01-07  3764.709961  3811.550049  3764.709961  3803.790039   \n",
      "4     ^GSPC  2021-01-08  3815.050049  3826.689941  3783.600098  3824.679932   \n",
      "...     ...         ...          ...          ...          ...          ...   \n",
      "1507   ^TNX  2021-12-27     1.489000     1.494000     1.476000     1.481000   \n",
      "1508   ^TNX  2021-12-28     1.486000     1.489000     1.455000     1.481000   \n",
      "1509   ^TNX  2021-12-29     1.505000     1.558000     1.505000     1.543000   \n",
      "1510   ^TNX  2021-12-30     1.531000     1.550000     1.513000     1.515000   \n",
      "1511   ^TNX  2021-12-31     1.505000     1.522000     1.491000     1.512000   \n",
      "\n",
      "          volume     adjusted  \n",
      "0     5015000000  3700.649902  \n",
      "1     4591020000  3726.860107  \n",
      "2     6064110000  3748.139893  \n",
      "3     5099160000  3803.790039  \n",
      "4     4773040000  3824.679932  \n",
      "...          ...          ...  \n",
      "1507           0     1.481000  \n",
      "1508           0     1.481000  \n",
      "1509           0     1.543000  \n",
      "1510           0     1.515000  \n",
      "1511           0     1.512000  \n",
      "\n",
      "[1512 rows x 8 columns]\n",
      "0       ^GSPC\n",
      "1       ^GSPC\n",
      "2       ^GSPC\n",
      "3       ^GSPC\n",
      "4       ^GSPC\n",
      "        ...  \n",
      "1507     ^TNX\n",
      "1508     ^TNX\n",
      "1509     ^TNX\n",
      "1510     ^TNX\n",
      "1511     ^TNX\n",
      "Name: symbol, Length: 1512, dtype: object\n",
      "0       2021-01-04\n",
      "1       2021-01-05\n",
      "2       2021-01-06\n",
      "3       2021-01-07\n",
      "4       2021-01-08\n",
      "           ...    \n",
      "1507    2021-12-27\n",
      "1508    2021-12-28\n",
      "1509    2021-12-29\n",
      "1510    2021-12-30\n",
      "1511    2021-12-31\n",
      "Name: date, Length: 1512, dtype: object\n",
      "0       3700.649902\n",
      "1       3726.860107\n",
      "2       3748.139893\n",
      "3       3803.790039\n",
      "4       3824.679932\n",
      "           ...     \n",
      "1507       1.481000\n",
      "1508       1.481000\n",
      "1509       1.543000\n",
      "1510       1.515000\n",
      "1511       1.512000\n",
      "Name: adjusted, Length: 1512, dtype: float64\n",
      "First day:  2021-01-04\n",
      "Last day:  2021-12-31\n",
      "Count per symbol:  \n",
      " symbol\n",
      "^GSPC    252\n",
      "^DJI     252\n",
      "^IXIC    252\n",
      "^IRX     252\n",
      "^FVX     252\n",
      "^TNX     252\n",
      "Name: count, dtype: int64\n"
     ]
    }
   ],
   "source": [
    "# Display the content of the full data set\n",
    "print(indexes)\n",
    "\n",
    "# Display the content of the individual columns\n",
    "print(symbol)\n",
    "print(date)\n",
    "print(adjusted)\n",
    "\n",
    "# Understand how to use the value_counts() function\n",
    "# help(pd.value_counts)\n",
    "\n",
    "# Run analysis against data\n",
    "print(\"First day: \", min(date))\n",
    "print(\"Last day: \", max(date))\n",
    "print(\"Count per symbol: \", \"\\n\", pd.Series(symbol).value_counts())"
   ]
  },
  {
   "cell_type": "markdown",
   "metadata": {},
   "source": [
    "### SECTION 3: EXTENSION\n",
    "\n",
    "Expand on your work above by investigating something in the data set that interests you."
   ]
  },
  {
   "cell_type": "code",
   "execution_count": 6,
   "metadata": {},
   "outputs": [
    {
     "name": "stdout",
     "output_type": "stream",
     "text": [
      "Averages by symbol:  \n",
      "                 open         close  daily_chng_val  daily_chng_pct\n",
      "symbol                                                            \n",
      "^DJI    34039.094789  34055.289690       16.194902        0.000509\n",
      "^FVX        0.857897      0.857722       -0.000175        0.000345\n",
      "^GSPC    4271.170712   4273.385635        2.214922        0.000542\n",
      "^IRX        0.035258      0.034615       -0.000643       -0.005619\n",
      "^IXIC   14371.278057  14371.662404        0.384347        0.000063\n",
      "^TNX        1.440988      1.440452       -0.000536       -0.000046\n"
     ]
    }
   ],
   "source": [
    "# Create copy of data frame to preserve original\n",
    "indexes_extension = indexes\n",
    "\n",
    "# Add new columns to data frame\n",
    "indexes_extension[\"daily_chng_val\"] = (indexes_extension[\"close\"] - indexes_extension[\"open\"])\n",
    "indexes_extension[\"daily_chng_pct\"] = (indexes_extension[\"daily_chng_val\"] / indexes_extension[\"open\"])\n",
    "\n",
    "# Understand how to use the pandas groupby() function\n",
    "# help(indexes_extension.groupby)\n",
    "\n",
    "# Analyze how symbols may fluctuate from each other\n",
    "agg_extension = indexes_extension.groupby(\"symbol\")[[\"open\", \"close\", \"daily_chng_val\", \"daily_chng_pct\"]].mean()\n",
    "print(\"Averages by symbol: \", \"\\n\", agg_extension)"
   ]
  }
 ],
 "metadata": {
  "kernelspec": {
   "display_name": "posit-academy-7Er59nBK-py3.12",
   "language": "python",
   "name": "python3"
  },
  "language_info": {
   "codemirror_mode": {
    "name": "ipython",
    "version": 3
   },
   "file_extension": ".py",
   "mimetype": "text/x-python",
   "name": "python",
   "nbconvert_exporter": "python",
   "pygments_lexer": "ipython3",
   "version": "3.12.2"
  }
 },
 "nbformat": 4,
 "nbformat_minor": 2
}
